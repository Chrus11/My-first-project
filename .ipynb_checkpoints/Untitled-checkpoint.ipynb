{
 "cells": [
  {
   "cell_type": "code",
   "execution_count": 35,
   "id": "2646ba89-82ea-494f-8ad9-184cd7770e9d",
   "metadata": {},
   "outputs": [],
   "source": [
    "import pandas as pd"
   ]
  },
  {
   "cell_type": "code",
   "execution_count": 36,
   "id": "9573ae83-9f77-4b5c-8307-a7fcbd73dc79",
   "metadata": {},
   "outputs": [],
   "source": [
    "Mydataframe=pd.read_csv(\"Показатели продаж товарной группы.csv\", delimiter=\",\")"
   ]
  },
  {
   "cell_type": "code",
   "execution_count": 37,
   "id": "6e7427ed-294a-42cd-aa25-6c8fc4beb4e6",
   "metadata": {},
   "outputs": [
    {
     "name": "stdout",
     "output_type": "stream",
     "text": [
      "  Период;январь;февраль;март;апрель;май;июнь;июль;август;сентябрь;октябрь;ноябрь;декабрь\n",
      "0  Оборот_руб;8974720.46;2972822.05;2826615.24;30...                                    \n",
      "1  Прибыль_руб;1787300.87;763813.15;667117.91;103...                                    \n",
      "2  Количество_продаж;85;95;90;117;109;86;135;125;...                                    \n",
      "3  Посещаемость_группы_на_сайте;4327;5017;4958;55...                                    \n"
     ]
    }
   ],
   "source": [
    "print(Mydataframe)"
   ]
  },
  {
   "cell_type": "code",
   "execution_count": 38,
   "id": "93fad185-35e8-4a43-8f8a-ec5a2ecd9a51",
   "metadata": {},
   "outputs": [
    {
     "name": "stdout",
     "output_type": "stream",
     "text": [
      "       Период;январь;февраль;март;апрель;май;июнь;июль;август;сентябрь;октябрь;ноябрь;декабрь\n",
      "count                                                   4                                    \n",
      "unique                                                  4                                    \n",
      "top     Оборот_руб;8974720.46;2972822.05;2826615.24;30...                                    \n",
      "freq                                                    1                                    \n"
     ]
    }
   ],
   "source": [
    "print(Mydataframe.describe())"
   ]
  },
  {
   "cell_type": "code",
   "execution_count": 39,
   "id": "daba28b6-1099-4020-bb1f-865a46b0e614",
   "metadata": {},
   "outputs": [
    {
     "name": "stdout",
     "output_type": "stream",
     "text": [
      "<class 'pandas.core.frame.DataFrame'>\n",
      "RangeIndex: 4 entries, 0 to 3\n",
      "Data columns (total 1 columns):\n",
      " #   Column                                                                                  Non-Null Count  Dtype \n",
      "---  ------                                                                                  --------------  ----- \n",
      " 0   Период;январь;февраль;март;апрель;май;июнь;июль;август;сентябрь;октябрь;ноябрь;декабрь  4 non-null      object\n",
      "dtypes: object(1)\n",
      "memory usage: 164.0+ bytes\n",
      "None\n"
     ]
    }
   ],
   "source": [
    "print(Mydataframe.info())"
   ]
  }
 ],
 "metadata": {
  "kernelspec": {
   "display_name": "Python 3 (ipykernel)",
   "language": "python",
   "name": "python3"
  },
  "language_info": {
   "codemirror_mode": {
    "name": "ipython",
    "version": 3
   },
   "file_extension": ".py",
   "mimetype": "text/x-python",
   "name": "python",
   "nbconvert_exporter": "python",
   "pygments_lexer": "ipython3",
   "version": "3.12.0"
  }
 },
 "nbformat": 4,
 "nbformat_minor": 5
}
